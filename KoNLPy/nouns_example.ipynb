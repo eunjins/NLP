{
 "metadata": {
  "language_info": {
   "codemirror_mode": {
    "name": "ipython",
    "version": 3
   },
   "file_extension": ".py",
   "mimetype": "text/x-python",
   "name": "python",
   "nbconvert_exporter": "python",
   "pygments_lexer": "ipython3",
   "version": "3.9.1-final"
  },
  "orig_nbformat": 2,
  "kernelspec": {
   "name": "python3",
   "display_name": "Python 3.9.1 64-bit",
   "metadata": {
    "interpreter": {
     "hash": "bf5e4bb18b4432dc119549c9f14bce46c7eb6466365763830a1bf21174326e9a"
    }
   }
  }
 },
 "nbformat": 4,
 "nbformat_minor": 2,
 "cells": [
  {
   "source": [
    "### 명사 빈도 계산 (한글)"
   ],
   "cell_type": "markdown",
   "metadata": {}
  },
  {
   "source": [
    "Now: 뉴스 데이터 전체(여러개)를 가지고 명사 빈도 계산\n",
    "\n",
    "        처리 결과는 다른 csv 파일에 따로 저장\n",
    "\n",
    "To do: 뉴스 하나하나 따로 계산\n"
   ],
   "cell_type": "markdown",
   "metadata": {}
  },
  {
   "source": [
    "from konlpy.tag import Okt\n",
    "from collections import Counter\n",
    "import csv"
   ],
   "cell_type": "code",
   "metadata": {},
   "execution_count": 1,
   "outputs": []
  },
  {
   "cell_type": "code",
   "execution_count": 2,
   "metadata": {},
   "outputs": [],
   "source": [
    "f = open(\"F:/eunjin/NLP/data/newslist.csv\", 'r', encoding='utf-8')\n",
    "news = f.read()"
   ]
  },
  {
   "cell_type": "code",
   "execution_count": 3,
   "metadata": {},
   "outputs": [],
   "source": [
    "okt = Okt()\n",
    "noun = okt.nouns(news)\n",
    "count = Counter(noun)"
   ]
  },
  {
   "cell_type": "code",
   "execution_count": 4,
   "metadata": {},
   "outputs": [],
   "source": [
    "noun = okt.nouns(news)\n",
    "\n",
    "# 한글자는 제외\n",
    "for i, j in enumerate(noun):\n",
    "    if len(j)<2:\n",
    "        noun.pop(i)\n",
    "    elif (j==\"기자\" or j==\"연합뉴스\"):\n",
    "        noun.pop(i)\n",
    "\n",
    "count = Counter(noun)\n",
    "f.close()"
   ]
  },
  {
   "cell_type": "code",
   "execution_count": 6,
   "metadata": {},
   "outputs": [
    {
     "output_type": "stream",
     "name": "stdout",
     "text": [
      "('애플', 1312)\n('금지', 1066)\n('전자', 1061)\n('비트코인', 966)\n('테슬라', 933)\n('미국', 916)\n('코로나', 858)\n('인텔', 851)\n('시장', 849)\n('삼성', 824)\n('배포', 791)\n('서울', 779)\n('무단', 777)\n('기자', 668)\n('반도체', 668)\n('기업', 622)\n('전기차', 605)\n('지난해', 597)\n('주가', 573)\n('가격', 566)\n('광고', 559)\n('제공', 550)\n('사업', 549)\n('기술', 538)\n('투자', 536)\n('재', 531)\n('한국', 524)\n('올해', 522)\n('페이지', 514)\n('저작권', 514)\n('거래', 508)\n('시간', 501)\n('지난', 495)\n('경제', 493)\n('대한', 489)\n('업체', 477)\n('화폐', 457)\n('통해', 456)\n('관련', 446)\n('생산', 445)\n('현대차', 437)\n('위해', 433)\n('그룹', 430)\n('최근', 428)\n('사진', 420)\n('주식', 399)\n('국내', 394)\n('이번', 393)\n('이후', 382)\n('상승', 370)\n('이상', 365)\n('선수', 365)\n('가상', 356)\n('때문', 345)\n('개발', 342)\n('경기', 342)\n('제품', 341)\n('말', 339)\n('서비스', 336)\n('현재', 331)\n('대해', 327)\n('것', 323)\n('휴대폰', 321)\n('진행', 316)\n('출시', 313)\n('하락', 306)\n('중국', 305)\n('계획', 303)\n('세계', 303)\n('글로벌', 301)\n('기준', 300)\n('축구', 299)\n('거래소', 298)\n('검사', 297)\n('금리', 297)\n('기록', 294)\n('매일경제', 294)\n('센터', 294)\n('발표', 288)\n('예정', 283)\n('정부', 279)\n('현지', 277)\n('가장', 276)\n('및', 275)\n('부문', 273)\n('경우', 271)\n('전망', 268)\n('지원', 262)\n('대비', 259)\n('회사', 259)\n('조사', 256)\n('달러', 256)\n('설명', 253)\n('시작', 252)\n('공개', 251)\n('자동차', 247)\n('배터리', 247)\n('협력', 246)\n('인수', 246)\n('교통', 246)\n"
     ]
    }
   ],
   "source": [
    "# 상위 100개 명사 추출\n",
    "noun_list = count.most_common(100)\n",
    "for i in noun_list:\n",
    "    print(i)"
   ]
  },
  {
   "cell_type": "code",
   "execution_count": 7,
   "metadata": {},
   "outputs": [],
   "source": [
    "with open(\"news_result.csv\", \"w\", newline='', encoding='utf-8') as f: # encoding='euc-kr'?\n",
    "    csvw = csv.writer(f)\n",
    "    for i in noun_list:\n",
    "        csvw.writerow(i)"
   ]
  },
  {
   "cell_type": "code",
   "execution_count": 8,
   "metadata": {},
   "outputs": [
    {
     "output_type": "execute_result",
     "data": {
      "text/plain": [
       "'\\nwith open(\"news_result.txt\", \"w\", encoding=\\'utf-8\\') as f:\\n    for i in noun_list:\\n        f.write(\" \".join(map(str, i)))\\n        f.write(\"\\n\")\\n'"
      ]
     },
     "metadata": {},
     "execution_count": 8
    }
   ],
   "source": [
    "# Save to txt file\n",
    "'''\n",
    "with open(\"news_result.txt\", \"w\", encoding='utf-8') as f:\n",
    "    for i in noun_list:\n",
    "        f.write(\" \".join(map(str, i)))\n",
    "        f.write(\"\\n\")\n",
    "'''"
   ]
  }
 ]
}