{
 "metadata": {
  "language_info": {
   "codemirror_mode": {
    "name": "ipython",
    "version": 3
   },
   "file_extension": ".py",
   "mimetype": "text/x-python",
   "name": "python",
   "nbconvert_exporter": "python",
   "pygments_lexer": "ipython3",
   "version": "3.9.1-final"
  },
  "orig_nbformat": 2,
  "kernelspec": {
   "name": "python3",
   "display_name": "Python 3.9.1 64-bit",
   "metadata": {
    "interpreter": {
     "hash": "bf5e4bb18b4432dc119549c9f14bce46c7eb6466365763830a1bf21174326e9a"
    }
   }
  }
 },
 "nbformat": 4,
 "nbformat_minor": 2,
 "cells": [
  {
   "source": [
    "Kernel: Python 3.9.1 64bit\n",
    "\n",
    "F:\\eunjin\\KoNLPy\\JPype1-1.2.0-cp39-cp39-win_amd64.whl"
   ],
   "cell_type": "markdown",
   "metadata": {}
  },
  {
   "cell_type": "code",
   "execution_count": 1,
   "metadata": {},
   "outputs": [],
   "source": [
    "from konlpy.tag import Okt"
   ]
  },
  {
   "cell_type": "code",
   "execution_count": 2,
   "metadata": {},
   "outputs": [],
   "source": [
    "okt = Okt()"
   ]
  },
  {
   "cell_type": "code",
   "execution_count": 4,
   "metadata": {},
   "outputs": [
    {
     "output_type": "stream",
     "name": "stdout",
     "text": [
      "['KoNLPy', '의', 'Okt', '형태소', '분석', '기', '사용', '.']\n"
     ]
    }
   ],
   "source": [
    "# 형태소 분석 okt.morphs\n",
    "print(okt.morphs(\"KoNLPy의 Okt 형태소 분석기 사용.\"))"
   ]
  },
  {
   "cell_type": "code",
   "execution_count": 6,
   "metadata": {},
   "outputs": [
    {
     "output_type": "stream",
     "name": "stdout",
     "text": [
      "['의', '형태소', '분석', '기', '명사', '추출', '띄어쓰기', '안해', '영어']\n"
     ]
    }
   ],
   "source": [
    "# 명사 추출 okt.nouns\n",
    "print(okt.nouns(\"KoNLPy의 Okt 형태소 분석기로 명사만 추출한다. 띄어쓰기를안해도잘나온다. 영어는안된다.\"))"
   ]
  },
  {
   "cell_type": "code",
   "execution_count": 7,
   "metadata": {},
   "outputs": [
    {
     "output_type": "stream",
     "name": "stdout",
     "text": [
      "['KoNLPy의', 'KoNLPy의 Okt', 'KoNLPy의 Okt 형태소', 'KoNLPy의 Okt 형태소 분석기', '어절', '추출', '띄어쓰기', '안해', 'KoNLPy', 'Okt', '형태소', '분석']\n"
     ]
    }
   ],
   "source": [
    "# 어절 추출 okt.phrase\n",
    "print(okt.phrases(\"KoNLPy의 Okt 형태소 분석기로 어절을 추출한다. 띄어쓰기를안해도잘나온다.\"))"
   ]
  },
  {
   "cell_type": "code",
   "execution_count": 8,
   "metadata": {},
   "outputs": [
    {
     "output_type": "stream",
     "name": "stdout",
     "text": [
      "[('KoNLPy', 'Alpha'), ('의', 'Noun'), ('Okt', 'Alpha'), ('형태소', 'Noun'), ('분석', 'Noun'), ('기', 'Noun'), ('로', 'Josa'), ('리스트', 'Noun'), ('를', 'Josa'), ('반환', 'Noun'), ('한다', 'Verb'), ('.', 'Punctuation'), ('ㅋㅋㅋㅋㅋ', 'KoreanParticle'), ('띄어쓰기', 'Noun'), ('ㅋㅋ', 'KoreanParticle'), ('를', 'Noun'), ('안해', 'Noun'), ('도', 'Josa'), ('잘나온다', 'Verb'), ('!~!', 'Punctuation')]\n"
     ]
    }
   ],
   "source": [
    "# 형태소 단위로 쪼개고 품사들을 태깅해서 리스트로 반환 okt.pos\n",
    "# Alpha: 영어 / Puntuation: 기호 / KoreanParticle: ㅋㅋㅋ(초성)\n",
    "print(okt.pos(\"KoNLPy의 Okt 형태소 분석기로 리스트를 반환한다.ㅋㅋㅋㅋㅋ 띄어쓰기ㅋㅋ를안해도잘나온다!~!\"))"
   ]
  }
 ]
}