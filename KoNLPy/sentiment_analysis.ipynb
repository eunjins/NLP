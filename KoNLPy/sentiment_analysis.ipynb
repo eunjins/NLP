{
 "metadata": {
  "language_info": {
   "codemirror_mode": {
    "name": "ipython",
    "version": 3
   },
   "file_extension": ".py",
   "mimetype": "text/x-python",
   "name": "python",
   "nbconvert_exporter": "python",
   "pygments_lexer": "ipython3",
   "version": "3.9.1-final"
  },
  "orig_nbformat": 2,
  "kernelspec": {
   "name": "python3",
   "display_name": "Python 3.9.1 64-bit",
   "metadata": {
    "interpreter": {
     "hash": "bf5e4bb18b4432dc119549c9f14bce46c7eb6466365763830a1bf21174326e9a"
    }
   }
  }
 },
 "nbformat": 4,
 "nbformat_minor": 2,
 "cells": [
  {
   "cell_type": "code",
   "execution_count": 22,
   "metadata": {},
   "outputs": [],
   "source": [
    "import konlpy\n",
    "from konlpy.tag import Okt\n",
    "import csv"
   ]
  },
  {
   "cell_type": "code",
   "execution_count": 23,
   "metadata": {},
   "outputs": [],
   "source": [
    "okt = Okt"
   ]
  },
  {
   "cell_type": "code",
   "execution_count": 24,
   "metadata": {},
   "outputs": [],
   "source": [
    "with open(\"F:/eunjin/NLP/data/newslist.csv\", \"r\", encoding='utf-8') as nl:\n",
    "    news = nl.readlines()\n",
    "\n",
    "news = [nl.replace(\"\\n\", \"\") for nl in news]"
   ]
  },
  {
   "cell_type": "code",
   "execution_count": 19,
   "metadata": {},
   "outputs": [],
   "source": [
    "stopwords = ['의', '가', '이', '은', '들', '는', '좀', '잘', '걍', '과', '도', '를', '으로', '자', '에', '와', '한', '하다']"
   ]
  },
  {
   "source": [
    "---"
   ],
   "cell_type": "markdown",
   "metadata": {}
  },
  {
   "cell_type": "code",
   "execution_count": 30,
   "metadata": {},
   "outputs": [],
   "source": [
    "import pandas as pd\n",
    "import numpy as np"
   ]
  },
  {
   "cell_type": "code",
   "execution_count": 31,
   "metadata": {},
   "outputs": [],
   "source": [
    "data = pd.read_csv(\"F:/eunjin/NLP/data/newslist.csv\")"
   ]
  },
  {
   "cell_type": "code",
   "execution_count": 50,
   "metadata": {},
   "outputs": [
    {
     "output_type": "stream",
     "name": "stdout",
     "text": [
      "<class 'pandas.core.frame.DataFrame'>\nInt64Index: 1094 entries, 0 to 1099\nData columns (total 3 columns):\n #   Column  Non-Null Count  Dtype \n---  ------  --------------  ----- \n 0   title   1094 non-null   object\n 1   url     1094 non-null   object\n 2   text    1094 non-null   object\ndtypes: object(3)\nmemory usage: 34.2+ KB\n"
     ]
    }
   ],
   "source": [
    "df = data.loc[:, ['title', 'url', 'text']]\n",
    "df = df[df['text'].notnull()]\n",
    "df.info()"
   ]
  },
  {
   "source": [
    "### csv로 저장\n",
    "\n",
    "df.to_csv(\"./test.csv\")"
   ],
   "cell_type": "markdown",
   "metadata": {}
  }
 ]
}